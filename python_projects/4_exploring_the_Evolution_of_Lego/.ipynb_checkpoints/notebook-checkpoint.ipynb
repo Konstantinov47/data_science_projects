{
 "cells": [
  {
   "cell_type": "markdown",
   "metadata": {},
   "source": [
    "## # 1. Introduction\n",
    "<p><img class=\"center\" src=\"https://www.scifinow.co.uk/wp-content/uploads/2016/07/LSWTFA_E3_Rey_Finn_BB8_1465839179.jpeg\" alt=\"A picture of Lego characters!\"></p>\n",
    "<h3 id=\"letslookatlegosets\">Lego sets!</h3>\n",
    "<p>Lego is a household name across the world, supported by a diverse toy line, hit movies, and a series of successful video games. In this project, we are going to explore a key development in the history of Lego: the introduction of licensed sets such as Star Wars, Super Heroes, and Harry Potter.</p>\n",
    "<p>It may not be widely known, but Lego has had its share of ups and downs since its inception in the early 20th century. This includes a particularly rough period in the late 90s. As described in <a href=\"https://www.businessinsider.com/how-lego-made-a-huge-turnaround-2014-2?r=US&IR=T\">this article</a>, Lego was only able to survive due to a successful internal brand (Bionicle) and the introduction of its first licensed series: Star Wars. In the instructions panel are the two questions you will need to answer to complete this project.</p>\n",
    "<p>Before diving into our analysis though, let's become familiar with the two datasets that will help you with this project:<br><br></p>\n",
    "<div style=\"background-color: #ebf4f7; color: #595959; text-align:left; vertical-align: middle; padding: 15px 25px 15px 25px; line-height: 1.6;\">\n",
    "    <div style=\"font-size:20px\"><b>datasets/lego_sets.csv</b></div>\n",
    "<ul>\n",
    "    <li><b>set_num:</b> A code that is unique to each set in the dataset. <b><i>This column is critical, and a missing value indicates the set is a duplicate or invalid!</i></b></li>\n",
    "    <li><b>set_name:</b> A name for every set in the dataset (note that this can be the same for different sets).</li>\n",
    "    <li><b>year:</b> The date the set was released.</li>\n",
    "    <li><b>num_parts:</b> The number of parts contained in the set.<b><i> This column is not central to our analyses, so missing values are acceptable.</i></b></li>\n",
    "        <li><b>theme_name:</b> The name of the sub-theme of the set.</li>\n",
    "    <li><b>parent_theme:</b> The name of the parent theme the set belongs to. Matches the `name` column of the `parent_themes` csv file.</li>\n",
    "</ul>\n",
    "\n",
    "<div style=\"font-size:20px\"><b>datasets/parent_themes.csv</b></div>\n",
    "<ul>\n",
    "    <li><b>id:</b> A code that is unique to every theme.</li>\n",
    "    <li><b>name:</b> The name of the parent theme.</li>\n",
    "    <li><b>is_licensed:</b> A Boolean column specifying whether the theme is a licensed theme.</li>\n",
    "</ul>\n",
    "    </div>\n",
    "<p>From here on out, it will be your task to explore and manipulate the existing data until you are able to answer the two questions described in the instructions panel. Feel free to add as many cells as necessary. Finally, remember that you are only tested on your answer, not on the methods you use to arrive at the answer!</p>"
   ]
  },
  {
   "cell_type": "markdown",
   "metadata": {},
   "source": [
    "## # 2. Instructions\n",
    "\n",
    "You are a Data Analyst at Lego working with the Sales/Customer Success teams. The Account Executive responsible for the Star Wars partnership has asked for specific information in preparation for their meeting with the Star Wars team. Although Star Wars was critical to the survival of the brand, Lego has since introduced a wide variety of licensed sets over subsequent years.\n",
    "\n",
    "Your two questions are as follows:\n",
    "\n",
    "<b>1.</b> What percentage of all licensed sets ever released were Star Wars themed? Save your answer as a variable the_force in the form of an integer (e.g. 25).\n",
    "\n",
    "<b>2.</b> In which year was Star Wars not the most popular licensed theme (in terms of number of sets released that year)? Save your answer as a variable new_era in the form of an integer (e.g. 2012).\n",
    "\n",
    "The method through which you approach this question is up to you, but one thing to keep in mind is that the dataset is not necessarily clean, and may require the removal rows where there are values missing from critical columns."
   ]
  },
  {
   "cell_type": "code",
   "execution_count": 2,
   "metadata": {},
   "outputs": [
    {
     "name": "stdout",
     "output_type": "stream",
     "text": [
      "    id     name  is_licensed\n",
      "0    1  Technic        False\n",
      "1   22  Creator        False\n",
      "2   50     Town        False\n",
      "3  112   Racers        False\n",
      "4  126    Space        False\n",
      "  set_num                        name  year  num_parts    theme_name  \\\n",
      "0    00-1             Weetabix Castle  1970      471.0        Castle   \n",
      "1  0011-2           Town Mini-Figures  1978        NaN  Supplemental   \n",
      "2  0011-3  Castle 2 for 1 Bonus Offer  1987        NaN  Lion Knights   \n",
      "3  0012-1          Space Mini-Figures  1979       12.0  Supplemental   \n",
      "4  0013-1          Space Mini-Figures  1979       12.0  Supplemental   \n",
      "\n",
      "  parent_theme  \n",
      "0     Legoland  \n",
      "1         Town  \n",
      "2       Castle  \n",
      "3        Space  \n",
      "4        Space  \n"
     ]
    }
   ],
   "source": [
    "#Part 1. Starwars licensed sets precentage compare to non licensed\n",
    "\n",
    "\n",
    "#Importing \n",
    "#Importing packages\n",
    "import pandas as pd\n",
    "import matplotlib.pyplot as plt\n",
    "import numpy as np\n",
    "\n",
    "#Reading from file\n",
    "lego_sets = pd.read_csv('datasets/lego_sets.csv')\n",
    "themes = pd.read_csv('datasets/parent_themes.csv')\n",
    "\n",
    "print(themes.head())\n",
    "print(lego_sets.head())\n",
    "# Merge sets on parent theme and name\n",
    "\n"
   ]
  },
  {
   "cell_type": "code",
   "execution_count": 6,
   "metadata": {},
   "outputs": [],
   "source": [
    "#Part 2\n",
    "#------\n",
    "\n"
   ]
  }
 ],
 "metadata": {
  "kernelspec": {
   "display_name": "Python 3",
   "language": "python",
   "name": "python3"
  },
  "language_info": {
   "codemirror_mode": {
    "name": "ipython",
    "version": 3
   },
   "file_extension": ".py",
   "mimetype": "text/x-python",
   "name": "python",
   "nbconvert_exporter": "python",
   "pygments_lexer": "ipython3",
   "version": "3.8.5"
  }
 },
 "nbformat": 4,
 "nbformat_minor": 4
}
